{
 "cells": [
  {
   "cell_type": "code",
   "execution_count": 2,
   "id": "demanding-dispute",
   "metadata": {},
   "outputs": [],
   "source": [
    "\n",
    "import os\n",
    "import argparse\n",
    "import mindspore.communication.management as D\n",
    "from mindspore.communication.management import get_rank\n",
    "import mindspore.common.dtype as mstype\n",
    "from mindspore import context\n",
    "from mindspore.train.model import Model\n",
    "from mindspore.context import ParallelMode\n",
    "from mindspore.nn.wrap.loss_scale import DynamicLossScaleUpdateCell\n",
    "from mindspore.train.callback import ModelCheckpoint, CheckpointConfig, TimeMonitor\n",
    "from mindspore.train.serialization import load_checkpoint, load_param_into_net\n",
    "#from mindspore.train.train_thor import ConvertModelUtils\n",
    "from mindspore.nn.optim import Lamb, Momentum, AdamWeightDecay#, THOR\n",
    "from mindspore import log as logger\n",
    "from mindspore.common import set_seed\n",
    "from mindspore.train.serialization import save_checkpoint"
   ]
  },
  {
   "cell_type": "code",
   "execution_count": null,
   "id": "capital-harvest",
   "metadata": {},
   "outputs": [],
   "source": []
  }
 ],
 "metadata": {
  "kernelspec": {
   "display_name": "Python 3",
   "language": "python",
   "name": "python3"
  },
  "language_info": {
   "codemirror_mode": {
    "name": "ipython",
    "version": 3
   },
   "file_extension": ".py",
   "mimetype": "text/x-python",
   "name": "python",
   "nbconvert_exporter": "python",
   "pygments_lexer": "ipython3",
   "version": "3.7.5"
  }
 },
 "nbformat": 4,
 "nbformat_minor": 5
}
